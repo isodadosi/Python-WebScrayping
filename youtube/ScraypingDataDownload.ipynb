{
 "cells": [
  {
   "cell_type": "code",
   "execution_count": 8,
   "metadata": {},
   "outputs": [],
   "source": [
    "# !pip install selenium"
   ]
  },
  {
   "cell_type": "code",
   "execution_count": 7,
   "metadata": {},
   "outputs": [],
   "source": [
    "# !pip install beautifulsoup4"
   ]
  },
  {
   "cell_type": "code",
   "execution_count": null,
   "metadata": {},
   "outputs": [],
   "source": []
  },
  {
   "cell_type": "code",
   "execution_count": 5,
   "metadata": {},
   "outputs": [],
   "source": [
    "from selenium import webdriver\n",
    "# 処理時間の計測など\n",
    "import time\n",
    "# csv操作、グラフ化、データ集計や加工\n",
    "import pandas as pd"
   ]
  },
  {
   "cell_type": "code",
   "execution_count": 6,
   "metadata": {},
   "outputs": [],
   "source": [
    "USER = \"test_user\"\n",
    "PASS = \"test_pw\""
   ]
  },
  {
   "cell_type": "code",
   "execution_count": 8,
   "metadata": {},
   "outputs": [],
   "source": [
    "#Chormeの起動、自動操作\n",
    "browser = webdriver.Chrome(executable_path = 'C:\\\\prog\\\\Python\\\\Mypandas\\\\chromedriver.exe')\n",
    "# 指定したドライバが見つかるまでの待ち時間\n",
    "browser.implicitly_wait(3)"
   ]
  },
  {
   "cell_type": "code",
   "execution_count": 9,
   "metadata": {},
   "outputs": [
    {
     "name": "stdout",
     "output_type": "stream",
     "text": [
      "ログインページにアクセスしました\n"
     ]
    }
   ],
   "source": [
    "# ログインするページへのアクセス\n",
    "url_login = \"https://kino-code.com/membership-login/\"\n",
    "# getで指定のURLへ遷移する\n",
    "browser.get(url_login)\n",
    "# URLに遷移した際にすぐに次の処理に行かないようにするため\n",
    "time.sleep(3)\n",
    "print(\"ログインページにアクセスしました\")"
   ]
  },
  {
   "cell_type": "code",
   "execution_count": 10,
   "metadata": {},
   "outputs": [
    {
     "name": "stdout",
     "output_type": "stream",
     "text": [
      "フォームを送信\n"
     ]
    }
   ],
   "source": [
    "# ログインページのテキストボックスに値を入力、HTMLのidやclassはChromeの検証機能で調べる\n",
    "element = browser.find_element_by_id('swpm_user_name')\n",
    "# もしテキストボックスに予め値が入力されている場合のClear\n",
    "element.clear()\n",
    "element.send_keys(USER)\n",
    "element = browser.find_element_by_id('swpm_password')\n",
    "element.clear()\n",
    "element.send_keys(PASS)\n",
    "print(\"フォームを送信\")"
   ]
  },
  {
   "cell_type": "code",
   "execution_count": 11,
   "metadata": {},
   "outputs": [
    {
     "name": "stdout",
     "output_type": "stream",
     "text": [
      "情報を入力してログインボタンを押しました\n"
     ]
    }
   ],
   "source": [
    "# ログインボタンのクリック、HTMLの要素をChromeから調べる、name = swpm-loginであることがわかった\n",
    "browser_from = browser.find_element_by_name('swpm-login')\n",
    "time.sleep(3)\n",
    "browser_from.click()\n",
    "print(\"情報を入力してログインボタンを押しました\")\n"
   ]
  },
  {
   "cell_type": "code",
   "execution_count": 12,
   "metadata": {},
   "outputs": [
    {
     "name": "stdout",
     "output_type": "stream",
     "text": [
      "https://kino-code.com/member-only/ :アクセス完了\n"
     ]
    }
   ],
   "source": [
    "# 会員専用ページのウェブサイトへアクセス\n",
    "url = \"https://kino-code.com/member-only/\"\n",
    "time.sleep(3)\n",
    "browser.get(url)\n",
    "print(url, \":アクセス完了\")"
   ]
  },
  {
   "cell_type": "code",
   "execution_count": 14,
   "metadata": {},
   "outputs": [
    {
     "name": "stdout",
     "output_type": "stream",
     "text": [
      "ダウンロードボタンをクリック\n"
     ]
    }
   ],
   "source": [
    "# ダウンロードボタンをクリック\n",
    "frm = browser.find_element_by_xpath('/html/body/div[1]/div[3]/div/main/article/div/p[2]/button')\n",
    "time.sleep(1)\n",
    "frm.click()\n",
    "print(\"ダウンロードボタンをクリック\")"
   ]
  },
  {
   "cell_type": "code",
   "execution_count": null,
   "metadata": {},
   "outputs": [],
   "source": []
  }
 ],
 "metadata": {
  "kernelspec": {
   "display_name": "Python 3",
   "language": "python",
   "name": "python3"
  },
  "language_info": {
   "codemirror_mode": {
    "name": "ipython",
    "version": 3
   },
   "file_extension": ".py",
   "mimetype": "text/x-python",
   "name": "python",
   "nbconvert_exporter": "python",
   "pygments_lexer": "ipython3",
   "version": "3.6.5"
  }
 },
 "nbformat": 4,
 "nbformat_minor": 2
}
