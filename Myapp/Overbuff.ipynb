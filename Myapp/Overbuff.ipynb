{
 "cells": [
  {
   "cell_type": "code",
   "execution_count": 1,
   "metadata": {},
   "outputs": [],
   "source": [
    "from selenium import webdriver\n",
    "# 処理時間の計測など\n",
    "import time\n",
    "# csv操作、グラフ化、データ集計や加工\n",
    "import pandas as pd"
   ]
  },
  {
   "cell_type": "code",
   "execution_count": 2,
   "metadata": {},
   "outputs": [],
   "source": [
    "# プレイヤー名 テストとしてランキング1位の人\n",
    "PLAYER = \"PUNK#11600\""
   ]
  },
  {
   "cell_type": "code",
   "execution_count": 3,
   "metadata": {},
   "outputs": [],
   "source": [
    "#Chormeの起動、自動操作\n",
    "browser = webdriver.Chrome(executable_path = 'C:\\\\prog\\\\Python\\\\WebScraping\\\\chromedriver.exe')\n",
    "# 指定したドライバが見つかるまでの待ち時間\n",
    "browser.implicitly_wait(3)"
   ]
  },
  {
   "cell_type": "code",
   "execution_count": 4,
   "metadata": {},
   "outputs": [
    {
     "name": "stdout",
     "output_type": "stream",
     "text": [
      "ログインページにアクセスしました\n"
     ]
    }
   ],
   "source": [
    "# ログインするページへのアクセス\n",
    "url_login = \"https://www.overbuff.com/\"\n",
    "# getで指定のURLへ遷移する\n",
    "browser.get(url_login)\n",
    "# URLに遷移した際にすぐに次の処理に行かないようにするため\n",
    "time.sleep(3)\n",
    "print(\"ログインページにアクセスしました\")"
   ]
  },
  {
   "cell_type": "code",
   "execution_count": 5,
   "metadata": {},
   "outputs": [
    {
     "name": "stdout",
     "output_type": "stream",
     "text": [
      "プレイヤー名を入力\n"
     ]
    }
   ],
   "source": [
    "search_name = browser.find_element_by_name('q')\n",
    "search_name.clear()\n",
    "search_name.send_keys(PLAYER)\n",
    "print(\"プレイヤー名を入力\")"
   ]
  },
  {
   "cell_type": "code",
   "execution_count": 6,
   "metadata": {},
   "outputs": [
    {
     "name": "stdout",
     "output_type": "stream",
     "text": [
      "検索ボタンのクリック\n"
     ]
    }
   ],
   "source": [
    "# 検索ボタンのクリック\n",
    "search_button = browser.find_element_by_xpath('/html/body/div[1]/div[1]/div[2]/div/div[1]/form/button')\n",
    "time.sleep(1)\n",
    "search_button.click()\n",
    "print(\"検索ボタンのクリック\")"
   ]
  },
  {
   "cell_type": "code",
   "execution_count": 11,
   "metadata": {},
   "outputs": [],
   "source": [
    "# プレイヤーの選択とクリック\n",
    "#  ※現在の書き方では複数選択肢がある場合は一番最初のものが選択される\n",
    "player_select = browser.find_element_by_class_name('SearchResult')\n",
    "player_select.click()"
   ]
  },
  {
   "cell_type": "code",
   "execution_count": null,
   "metadata": {},
   "outputs": [],
   "source": []
  }
 ],
 "metadata": {
  "kernelspec": {
   "display_name": "Python 3",
   "language": "python",
   "name": "python3"
  },
  "language_info": {
   "codemirror_mode": {
    "name": "ipython",
    "version": 3
   },
   "file_extension": ".py",
   "mimetype": "text/x-python",
   "name": "python",
   "nbconvert_exporter": "python",
   "pygments_lexer": "ipython3",
   "version": "3.6.5"
  }
 },
 "nbformat": 4,
 "nbformat_minor": 2
}
