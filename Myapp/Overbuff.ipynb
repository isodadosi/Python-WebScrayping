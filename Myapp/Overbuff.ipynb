{
 "cells": [
  {
   "cell_type": "code",
   "execution_count": 1,
   "metadata": {},
   "outputs": [],
   "source": [
    "from selenium import webdriver\n",
    "from bs4 import BeautifulSoup\n",
    "import urllib.request as req\n",
    "# 処理時間の計測など\n",
    "import time\n",
    "# csv操作、グラフ化、データ集計や加工\n",
    "import pandas as pd"
   ]
  },
  {
   "cell_type": "code",
   "execution_count": 2,
   "metadata": {},
   "outputs": [],
   "source": [
    "# プレイヤー名 テストとして自分のID\n",
    "PLAYER_PC = \"ISUQQ#1380\"\n",
    "PLAYER_PS4 = \"isopon_24\""
   ]
  },
  {
   "cell_type": "code",
   "execution_count": 3,
   "metadata": {},
   "outputs": [],
   "source": [
    "#Chormeの起動、自動操作\n",
    "browser = webdriver.Chrome(executable_path = 'C:\\\\prog\\\\Python\\\\WebScraping\\\\chromedriver.exe')\n",
    "# 指定したドライバが見つかるまでの待ち時間\n",
    "browser.implicitly_wait(3)"
   ]
  },
  {
   "cell_type": "code",
   "execution_count": 4,
   "metadata": {},
   "outputs": [
    {
     "name": "stdout",
     "output_type": "stream",
     "text": [
      "ログインページにアクセスしました\n"
     ]
    }
   ],
   "source": [
    "# ログインするページへのアクセス\n",
    "url_login = \"https://www.overbuff.com/\"\n",
    "# getで指定のURLへ遷移する\n",
    "browser.get(url_login)\n",
    "# URLに遷移した際にすぐに次の処理に行かないようにするため\n",
    "time.sleep(3)\n",
    "print(\"ログインページにアクセスしました\")"
   ]
  },
  {
   "cell_type": "code",
   "execution_count": 24,
   "metadata": {},
   "outputs": [
    {
     "name": "stdout",
     "output_type": "stream",
     "text": [
      "プレイヤー名を入力\n"
     ]
    }
   ],
   "source": [
    "# 現在は大画面でのUIにしか対応していない\n",
    "\n",
    "search_name = browser.find_element_by_name('q')\n",
    "search_name.clear()\n",
    "search_name.send_keys(PLAYER_PS4)\n",
    "print(\"プレイヤー名を入力\")"
   ]
  },
  {
   "cell_type": "code",
   "execution_count": 25,
   "metadata": {},
   "outputs": [
    {
     "name": "stdout",
     "output_type": "stream",
     "text": [
      "検索ボタンのクリック\n"
     ]
    }
   ],
   "source": [
    "# 検索ボタンのクリック\n",
    "search_button = browser.find_element_by_xpath('/html/body/div[1]/div[1]/div[2]/div/div[1]/form/button')\n",
    "time.sleep(1)\n",
    "search_button.click()\n",
    "print(\"検索ボタンのクリック\")"
   ]
  },
  {
   "cell_type": "code",
   "execution_count": 26,
   "metadata": {},
   "outputs": [],
   "source": [
    "# プレイヤーの選択とクリック\n",
    "#  ※現在の書き方では複数選択肢がある場合は一番最初のものが選択される\n",
    "player_select = browser.find_element_by_class_name('SearchResult')\n",
    "player_select.click()"
   ]
  },
  {
   "cell_type": "code",
   "execution_count": 27,
   "metadata": {},
   "outputs": [],
   "source": [
    "# いろいろ試してみたがセッションで値が変わる様なページでは直接値を取得するのは向いていないっぽい\n",
    "# HTMLを取得してから値を取得する方法を次に試してみる\n",
    "\n",
    "# now_tank_rate = raw_html.findElement(By.xpath('/html/body/div[1]/div[3]/div/div[3]/div[2]/div[2]/div/section/article/table')).fidElements(By.tagName(\"tr\").size()\n",
    "# now_tank_rate = browser.find_element_by_xpath('/html/body/div[1]/div[3]/div/div[3]/div[2]/div[2]/div/section/article/table/tbody/tr/td[3]')\n",
    "\n",
    "# element = browser.find_element_by_xpath('/html/body/div[1]/div[3]/div/div[3]/div[2]/div[2]/div/section/article/table/tbody/tr/td[2]')\n",
    "# print(element)\n",
    "# valString = element.get_attribute(\"value\")\n",
    "# print(valString)\n",
    "\n",
    "# tableElem = browser.find_element_by_xpath(\"/html/body/div[1]/div[3]/div/div[3]/div[2]/div[2]/div/section/article/table\")\n",
    "# trs = tableElem.find_elements(By.TAG_NAME, \"tr\")\n",
    "\n",
    "# print(tableElem)"
   ]
  },
  {
   "cell_type": "code",
   "execution_count": 40,
   "metadata": {},
   "outputs": [],
   "source": [
    "# 1. urllibを使用してソースを取得する方法は失敗、overbuffのサイトで429エラーがでる\n",
    "# test1->pass test2->error cur->error\n",
    "# cur_url = browser.current_url \n",
    "# # error 429がでる 明日原因を解明しよう\n",
    "# test1_url = \"https://ja.wikipedia.org/wiki/%E3%82%A6%E3%82%A3%E3%82%AD\"\n",
    "# test2_url = \"https://www.overbuff.com/\"\n",
    "# response = req.urlopen(test_url)\n",
    "\n",
    "\n",
    "# 2. ブラウザのソースをそのまま取得する方法で解決した(seleniumで取得->Beautifulsoupへ変換)\n",
    "raw_html = browser.page_source\n",
    "parse_html = BeautifulSoup(raw_html, 'html5lib')\n",
    "# print(parse_html.prettify())"
   ]
  },
  {
   "cell_type": "code",
   "execution_count": 138,
   "metadata": {},
   "outputs": [],
   "source": [
    "# 各ロールのrateを出力\n",
    "\n",
    "table = parse_html.findAll(\"table\", {\"class\":\"table-data\"})[0]\n",
    "rows = table.findAll(\"tr\")\n",
    "\n",
    "rate_list = []\n",
    "rate_damage_list = []\n",
    "rate_support_list = []\n",
    "rate_tank_list = []\n",
    "\n",
    "\n",
    "for row in rows[1:] :\n",
    "#     print(row)\n",
    "    for sell in row.findAll('td'):\n",
    "        rate_list.append(sell.get_text())\n",
    "\n",
    "\n",
    "rate_damage_list.append(rate_list[2])\n",
    "rate_support_list.append(rate_list[5])\n",
    "rate_tank_list.append(rate_list[8])\n",
    "\n",
    "# print(rate_list)"
   ]
  },
  {
   "cell_type": "code",
   "execution_count": 139,
   "metadata": {},
   "outputs": [],
   "source": [
    "# Pandasを用いて見やすい表へ\n",
    "df_rate_list = pd.DataFrame({'Damege':rate_damage_list,'Suport':rate_support_list, 'Tank':rate_tank_list})"
   ]
  },
  {
   "cell_type": "code",
   "execution_count": 137,
   "metadata": {},
   "outputs": [
    {
     "data": {
      "text/html": [
       "<div>\n",
       "<style scoped>\n",
       "    .dataframe tbody tr th:only-of-type {\n",
       "        vertical-align: middle;\n",
       "    }\n",
       "\n",
       "    .dataframe tbody tr th {\n",
       "        vertical-align: top;\n",
       "    }\n",
       "\n",
       "    .dataframe thead th {\n",
       "        text-align: right;\n",
       "    }\n",
       "</style>\n",
       "<table border=\"1\" class=\"dataframe\">\n",
       "  <thead>\n",
       "    <tr style=\"text-align: right;\">\n",
       "      <th></th>\n",
       "      <th>Damege</th>\n",
       "      <th>Suport</th>\n",
       "      <th>Tank</th>\n",
       "    </tr>\n",
       "  </thead>\n",
       "  <tbody>\n",
       "    <tr>\n",
       "      <th>0</th>\n",
       "      <td>1,881</td>\n",
       "      <td>2,500</td>\n",
       "      <td>2,346</td>\n",
       "    </tr>\n",
       "  </tbody>\n",
       "</table>\n",
       "</div>"
      ],
      "text/plain": [
       "  Damege Suport   Tank\n",
       "0  1,881  2,500  2,346"
      ]
     },
     "execution_count": 137,
     "metadata": {},
     "output_type": "execute_result"
    }
   ],
   "source": [
    "df_rate_list"
   ]
  }
 ],
 "metadata": {
  "kernelspec": {
   "display_name": "Python 3",
   "language": "python",
   "name": "python3"
  },
  "language_info": {
   "codemirror_mode": {
    "name": "ipython",
    "version": 3
   },
   "file_extension": ".py",
   "mimetype": "text/x-python",
   "name": "python",
   "nbconvert_exporter": "python",
   "pygments_lexer": "ipython3",
   "version": "3.6.5"
  }
 },
 "nbformat": 4,
 "nbformat_minor": 2
}
